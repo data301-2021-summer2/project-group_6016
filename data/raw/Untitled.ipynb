{
 "cells": [
  {
   "cell_type": "code",
   "execution_count": 3,
   "id": "3bd32f6a-add7-402e-a7a7-741a6149335d",
   "metadata": {},
   "outputs": [],
   "source": [
    "import numpy as np\n",
    "import pandas as pd\n",
    "import matplotlib.pylab as plt\n",
    "import seaborn as sns\n",
    "\n",
    "data = pd.read_csv(\"../raw/day.csv\")\n",
    "\n",
    "data_clean = data.dropna(axis=0)\n",
    "\n",
    "data_clean = data.drop(columns=['yr', 'season', 'mnth', 'weekday', 'weathersit', 'atemp'])\n",
    "\n",
    "data_clean\n",
    "\n",
    "data_clean.to_csv('day_processed.csv')"
   ]
  },
  {
   "cell_type": "code",
   "execution_count": null,
   "id": "27c5ecdb-d25f-4b00-9c3b-fbc0e96be93b",
   "metadata": {},
   "outputs": [],
   "source": []
  }
 ],
 "metadata": {
  "kernelspec": {
   "display_name": "Python 3 (ipykernel)",
   "language": "python",
   "name": "python3"
  },
  "language_info": {
   "codemirror_mode": {
    "name": "ipython",
    "version": 3
   },
   "file_extension": ".py",
   "mimetype": "text/x-python",
   "name": "python",
   "nbconvert_exporter": "python",
   "pygments_lexer": "ipython3",
   "version": "3.8.10"
  }
 },
 "nbformat": 4,
 "nbformat_minor": 5
}
